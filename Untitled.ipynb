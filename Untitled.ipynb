{
 "cells": [
  {
   "cell_type": "markdown",
   "id": "65cb13f1",
   "metadata": {},
   "source": [
    "that la `that a`\n"
   ]
  },
  {
   "cell_type": "markdown",
   "id": "aeecc52c",
   "metadata": {},
   "source": [
    "# The largest heading\n",
    "## The second largest heading\n",
    "###### The smallest heading"
   ]
  },
  {
   "cell_type": "markdown",
   "id": "ca4dbb9a",
   "metadata": {},
   "source": [
    "###### heading be nhta\n"
   ]
  },
  {
   "cell_type": "markdown",
   "id": "ad062016",
   "metadata": {},
   "source": [
    "**bold**"
   ]
  },
  {
   "cell_type": "markdown",
   "id": "dd67c11c",
   "metadata": {},
   "source": [
    "_italic_"
   ]
  },
  {
   "cell_type": "markdown",
   "id": "a0971f80",
   "metadata": {},
   "source": [
    "~~xyuyen~~"
   ]
  },
  {
   "cell_type": "markdown",
   "id": "dc4a4ce6",
   "metadata": {},
   "source": [
    "**that a _dieu_**"
   ]
  },
  {
   "cell_type": "markdown",
   "id": "3046e5cc",
   "metadata": {},
   "source": [
    "***bold an italic a***"
   ]
  },
  {
   "cell_type": "markdown",
   "id": "e3c1a0f8",
   "metadata": {},
   "source": [
    "nhung\n",
    "> laf va do"
   ]
  },
  {
   "cell_type": "markdown",
   "id": "8dff266c",
   "metadata": {},
   "source": [
    "de xem nao\n",
    "```\n",
    "them vao day\n",
    "them vbao kia\n",
    "```"
   ]
  },
  {
   "cell_type": "markdown",
   "id": "c82f9d40",
   "metadata": {},
   "source": [
    "dan den dau do [github](https://docs.github.com/en/github/writing-on-github/getting-started-with-writing-and-formatting-on-github/basic-writing-and-formatting-syntax)"
   ]
  },
  {
   "cell_type": "markdown",
   "id": "d9f752ed",
   "metadata": {},
   "source": [
    "- list nay\n",
    "- the kia\n",
    "- the nao"
   ]
  },
  {
   "cell_type": "markdown",
   "id": "3ee602e6",
   "metadata": {},
   "source": [
    "1. that luion\n",
    "2. co the"
   ]
  },
  {
   "cell_type": "markdown",
   "id": "243296c3",
   "metadata": {},
   "source": [
    "1. dau tine\n",
    "    - roi sau do\n",
    "        - ra sao\n",
    "            - tab cho nhanh"
   ]
  },
  {
   "cell_type": "markdown",
   "id": "c8cd862b",
   "metadata": {},
   "source": [
    "1. the ad\n",
    "            - that"
   ]
  },
  {
   "cell_type": "markdown",
   "id": "5b875660",
   "metadata": {},
   "source": [
    "- [x] #739\n",
    "- [ ] https://github.com/octo-org/octo-repo/issues/740\n",
    "- [ ] Add delight to the experience when all tasks are complete :tada:"
   ]
  },
  {
   "cell_type": "markdown",
   "id": "3837658a",
   "metadata": {},
   "source": [
    "- [ ] \\(Optional) Open a followup issue"
   ]
  },
  {
   "cell_type": "markdown",
   "id": "11769c6c",
   "metadata": {},
   "source": [
    "- [ ] that luon"
   ]
  },
  {
   "cell_type": "markdown",
   "id": "a1763594",
   "metadata": {},
   "source": [
    "octocat :+1: This PR looks great - it's ready to merge! :shipit:"
   ]
  },
  {
   "cell_type": "markdown",
   "id": "ce9c5973",
   "metadata": {},
   "source": [
    ":grinning:"
   ]
  },
  {
   "cell_type": "markdown",
   "id": "d48457e0",
   "metadata": {},
   "source": [
    "|tao bang| cach lam|\n",
    "|---|---|\n",
    "|dau tien|sau dos|\n",
    "|1| done|"
   ]
  },
  {
   "cell_type": "markdown",
   "id": "b274bf0d",
   "metadata": {},
   "source": [
    "|de thu|cainay|xe dai ram|\n",
    "|:---|:---:|---:|\n",
    "|day la|nhung naonoi|day|"
   ]
  },
  {
   "cell_type": "markdown",
   "id": "7ec5ee8f",
   "metadata": {},
   "source": [
    "<h1>My Fabulous Recipe</h1>\n",
    "\n",
    "<p>This recipe for <strong>cereal and milk</strong> has been passed down my family for months.</p>\n",
    "\n",
    "<h2>Ingredients</h2>\n",
    "\n",
    "<ul>\n",
    "    <li>Cereal (you can find cool cereals <a href=\"www.example.com/coolcereals\">here</a>)</li>\n",
    "    <li>Milk</li>\n",
    "</ul>\n",
    "\n",
    "<h2>Directions</h2>\n",
    "\n",
    "<p>If I were writing these out as <em>code</em>, it might look something like this:</p>\n",
    "\n",
    "<pre><code>if bowl is empty:\n",
    "    add cereal\n",
    "if bowl only has cereal in it:\n",
    "    add milk\n",
    "</code></pre>\n",
    "</body>"
   ]
  },
  {
   "cell_type": "markdown",
   "id": "a55e27dc",
   "metadata": {},
   "source": [
    "# My Fabulous Recipe\n",
    "\n",
    "This recipe for **cereal and milk** has been passed down my family for months.\n",
    "\n",
    "## Ingredients\n",
    "\n",
    "- Cereal (you can find cool cereals [here](www.example.com/coolcereals)\n",
    "- Milk\n",
    "\n",
    "## Directions\n",
    "\n",
    "If I were writing these out as _code_, it might look something like this:\n",
    "```\n",
    "if bowl is empty:\n",
    "    add cereal\n",
    "if bowl only has cereal in it:\n",
    "    add milk\n",
    "```"
   ]
  },
  {
   "cell_type": "markdown",
   "id": "377615db",
   "metadata": {},
   "source": []
  },
  {
   "cell_type": "markdown",
   "id": "dc2713f5",
   "metadata": {},
   "source": []
  },
  {
   "cell_type": "markdown",
   "id": "c1637dd3",
   "metadata": {},
   "source": []
  },
  {
   "cell_type": "markdown",
   "id": "af2edb06",
   "metadata": {},
   "source": []
  },
  {
   "cell_type": "markdown",
   "id": "8732ca28",
   "metadata": {},
   "source": []
  },
  {
   "cell_type": "markdown",
   "id": "7bc43097",
   "metadata": {},
   "source": []
  },
  {
   "cell_type": "markdown",
   "id": "3ea79894",
   "metadata": {},
   "source": []
  },
  {
   "cell_type": "markdown",
   "id": "37d9be9e",
   "metadata": {},
   "source": []
  },
  {
   "cell_type": "markdown",
   "id": "f1271581",
   "metadata": {},
   "source": []
  },
  {
   "cell_type": "markdown",
   "id": "bd693241",
   "metadata": {},
   "source": []
  },
  {
   "cell_type": "markdown",
   "id": "be96e032",
   "metadata": {},
   "source": []
  }
 ],
 "metadata": {
  "kernelspec": {
   "display_name": "Python 3",
   "language": "python",
   "name": "python3"
  },
  "language_info": {
   "codemirror_mode": {
    "name": "ipython",
    "version": 3
   },
   "file_extension": ".py",
   "mimetype": "text/x-python",
   "name": "python",
   "nbconvert_exporter": "python",
   "pygments_lexer": "ipython3",
   "version": "3.8.8"
  }
 },
 "nbformat": 4,
 "nbformat_minor": 5
}
