{
 "cells": [
  {
   "cell_type": "code",
   "execution_count": 1,
   "id": "673a0c77",
   "metadata": {},
   "outputs": [
    {
     "data": {
      "text/plain": [
       "2"
      ]
     },
     "execution_count": 1,
     "metadata": {},
     "output_type": "execute_result"
    }
   ],
   "source": [
    "1 + 1"
   ]
  },
  {
   "cell_type": "markdown",
   "id": "27254416",
   "metadata": {},
   "source": [
    "My Title"
   ]
  },
  {
   "cell_type": "markdown",
   "id": "76ec1963",
   "metadata": {},
   "source": [
    "# Header 1"
   ]
  },
  {
   "cell_type": "markdown",
   "id": "da1bc316",
   "metadata": {},
   "source": [
    "[Markdown Cheatsheet](https://github.com/adam-p/markdown-here/wiki/Markdown-Cheatsheet)"
   ]
  },
  {
   "cell_type": "markdown",
   "id": "bd1880a5",
   "metadata": {},
   "source": [
    "|A|B|C|\n",
    "|-----|-----|-----|\n",
    "|4|5|3|\n",
    "|g|d|r|\n",
    "|4|h|b|"
   ]
  },
  {
   "cell_type": "markdown",
   "id": "c72daabd",
   "metadata": {},
   "source": [
    "## H2"
   ]
  },
  {
   "cell_type": "markdown",
   "id": "c86bd5a9",
   "metadata": {},
   "source": [
    "H1\n",
    "="
   ]
  },
  {
   "cell_type": "markdown",
   "id": "9d3bf58e",
   "metadata": {},
   "source": [
    "Alt-H2\n",
    "--"
   ]
  },
  {
   "cell_type": "markdown",
   "id": "be45ee3f",
   "metadata": {},
   "source": [
    "# H1\n",
    "## H2\n",
    "### H3\n",
    "#### H4\n",
    "##### H5\n",
    "###### H6\n",
    "\n",
    "Alternatively, for H1 and H2, an underline-ish style:\n",
    "\n",
    "Alt-H1\n",
    "======\n",
    "\n",
    "Alt-H2\n",
    "------\n"
   ]
  },
  {
   "cell_type": "markdown",
   "id": "b1690b7c",
   "metadata": {},
   "source": [
    "That *sao* _duoi_.\n",
    "gap **doi** __haiduoi__.\n",
    "**test and _test_**"
   ]
  },
  {
   "cell_type": "markdown",
   "id": "5a85f9c3",
   "metadata": {},
   "source": [
    "Emphasis, aka italics, with *asterisks* or _underscores_.\n",
    "\n",
    "Strong emphasis, aka bold, with **asterisks** or __underscores__.\n",
    "\n",
    "Combined emphasis with **asterisks and _underscores_**.\n",
    "\n",
    "Strikethrough uses two tildes. ~~Scratch this.~~\n"
   ]
  },
  {
   "cell_type": "markdown",
   "id": "473f89e1",
   "metadata": {},
   "source": [
    "~~gach~~"
   ]
  },
  {
   "cell_type": "markdown",
   "id": "f019310a",
   "metadata": {},
   "source": [
    "1. First ordered list item\n",
    "2. Another item\n",
    "\n",
    "⋅⋅* Unordered sub-list. \n",
    "1. Actual numbers don't matter, just that it's a number\n",
    "\n",
    "⋅⋅1. Ordered sub-list\n",
    "4. And another item.\n",
    "\n",
    "⋅⋅⋅You can have properly indented paragraphs within list items. Notice the blank line above, and the leading spaces (at least one, but we'll use three here to also align the raw Markdown).\n",
    "\n",
    "⋅⋅⋅To have a line break without a paragraph, you will need to use two trailing spaces.⋅⋅\n",
    "⋅⋅⋅Note that this line is separate, but within the same paragraph.⋅⋅\n",
    "⋅⋅⋅(This is contrary to the typical GFM line break behaviour, where trailing spaces are not required.)\n",
    "\n",
    "* Unordered list can use asterisks\n",
    "- Or minuses\n",
    "+ Or pluses\n"
   ]
  },
  {
   "cell_type": "markdown",
   "id": "61f84335",
   "metadata": {},
   "source": [
    "[I'm an inline-style link](https://www.google.com)\n",
    "\n",
    "[I'm an inline-style link with title](https://www.google.com \"Google's Homepage\")\n",
    "\n",
    "[I'm a reference-style link][Arbitrary case-insensitive reference text]\n",
    "\n",
    "[I'm a relative reference to a repository file](../blob/master/LICENSE)\n",
    "\n",
    "[You can use numbers for reference-style link definitions][1]\n",
    "\n",
    "Or leave it empty and use the [link text itself].\n",
    "\n",
    "URLs and URLs in angle brackets will automatically get turned into links. \n",
    "http://www.example.com or <http://www.example.com> and sometimes \n",
    "example.com (but not on Github, for example).\n",
    "\n",
    "Some text to show that the reference links can follow later.\n",
    "\n",
    "[arbitrary case-insensitive reference text]: https://www.mozilla.org\n",
    "[1]: http://slashdot.org\n",
    "[link text itself]: http://www.reddit.com\n"
   ]
  },
  {
   "cell_type": "markdown",
   "id": "51b12b25",
   "metadata": {},
   "source": [
    "[I'm an inline-style link](https://www.google.com)\n",
    "\n",
    "[I'm an inline-style link with title](https://www.google.com \"Google's Homepage\")\n",
    "\n",
    "[I'm a reference-style link][Arbitrary case-insensitive reference text]\n",
    "\n",
    "[I'm a relative reference to a repository file](../blob/master/LICENSE)\n",
    "\n",
    "[You can use numbers for reference-style link definitions][1]\n",
    "\n",
    "Or leave it empty and use the [link text itself].\n",
    "\n",
    "URLs and URLs in angle brackets will automatically get turned into links. \n",
    "http://www.example.com or <http://www.example.com> and sometimes \n",
    "example.com (but not on Github, for example).\n",
    "\n",
    "Some text to show that the reference links can follow later.\n",
    "\n",
    "[arbitrary case-insensitive reference text]: https://www.mozilla.org\n",
    "[1]: http://slashdot.org\n",
    "[link text itself]: http://www.reddit.com\n"
   ]
  },
  {
   "cell_type": "markdown",
   "id": "015ca0ae",
   "metadata": {},
   "source": [
    "Here's our logo (hover to see the title text):\n",
    "\n",
    "Inline-style: \n",
    "![alt text test](https://github.com/adam-p/markdown-here/raw/master/src/common/images/icon48.png)\n",
    "\n",
    "Reference-style: \n",
    "![alt text][logo]\n",
    "\n",
    "[logo]: https://github.com/adam-p/markdown-here/raw/master/src/common/images/icon48.png \"Logo Title Text 2\"\n"
   ]
  },
  {
   "cell_type": "markdown",
   "id": "2aeed6e9",
   "metadata": {},
   "source": [
    "test `cai nay`"
   ]
  },
  {
   "cell_type": "markdown",
   "id": "9498b4be",
   "metadata": {},
   "source": [
    "``` python \n",
    "print('mua') \n",
    "```"
   ]
  },
  {
   "cell_type": "markdown",
   "id": "a228f0cc",
   "metadata": {},
   "source": [
    "```javascript\n",
    "var s = \"JavaScript syntax highlighting\";\n",
    "alert(s);\n",
    "```\n",
    " \n",
    "```python\n",
    "s = \"Python syntax highlighting\"\n",
    "print s\n",
    "```\n",
    " \n",
    "```\n",
    "No language indicated, so no syntax highlighting. \n",
    "But let's throw in a <b>tag</b>.\n",
    "```\n"
   ]
  },
  {
   "cell_type": "markdown",
   "id": "d2e5ee65",
   "metadata": {},
   "source": [
    "Colons can be used to align columns.\n",
    "\n",
    "\n",
    "There must be at least 3 dashes separating each header cell.\n",
    "The outer pipes (|) are optional, and you don't need to make the \n",
    "raw Markdown line up prettily. You can also use inline Markdown.\n",
    "\n",
    "Markdown | Less | Pretty\n",
    "--- | --- | ---\n",
    "*Still* | `renders` | **nicely**\n",
    "1 | 2 | 3\n",
    "_df_|__fsf__|*sf __fsdf__*\n"
   ]
  },
  {
   "cell_type": "markdown",
   "id": "c0823764",
   "metadata": {},
   "source": [
    "> Blockquotes are very handy in email to emulate reply text.\n",
    "> This line is part of the same quote.\n",
    "\n",
    "Quote break.\n",
    "\n",
    "> This is a very long line that will still be quoted properly when it wraps. Oh boy let's keep writing to make sure this is long enough to actually wrap for everyone. Oh, you can *put* **Markdown** into a blockquote. \n"
   ]
  },
  {
   "cell_type": "markdown",
   "id": "ef6b790b",
   "metadata": {},
   "source": [
    "<dl>\n",
    "  <dt>Definition list</dt>\n",
    "  <dd>Is something people use sometimes.</dd>\n",
    "\n",
    "  <dt>Markdown in HTML</dt>\n",
    "  <dd>Does *not* work **very** well. Use HTML <em>tags</em>.</dd>\n",
    "</dl>\n"
   ]
  },
  {
   "cell_type": "markdown",
   "id": "f22ccfd1",
   "metadata": {},
   "source": [
    "Three or more...\n",
    "\n",
    "---\n",
    "\n",
    "Hyphens\n",
    "\n",
    "***\n",
    "\n",
    "Asterisks\n",
    "\n",
    "___\n",
    "\n",
    "Underscores\n"
   ]
  },
  {
   "cell_type": "markdown",
   "id": "28e984b1",
   "metadata": {},
   "source": [
    "that\n",
    "____\n",
    "as"
   ]
  },
  {
   "cell_type": "markdown",
   "id": "b6de90ea",
   "metadata": {},
   "source": [
    "that\n",
    "sao\n",
    "\n",
    "sao"
   ]
  },
  {
   "cell_type": "markdown",
   "id": "73b95ad6",
   "metadata": {},
   "source": [
    "Here's a line for us to start with.\n",
    "\n",
    "This line is separated from the one above by two newlines, so it will be a *separate paragraph*.\n",
    "\n",
    "This line is also a separate paragraph, but...\n",
    "This line is only separated by a single newline, so it's a separate line in the *same paragraph*.\n"
   ]
  },
  {
   "cell_type": "markdown",
   "id": "e776d673",
   "metadata": {},
   "source": [
    "$-b \\pm \\sqrt{b^2 - 4ac} \\over 2a$\n",
    "$x = a_0 + \\frac{1}{a_1 + \\frac{1}{a_2 + \\frac{1}{a_3 + a_4}}}$\n",
    "$\\forall x \\in X, \\quad \\exists y \\leq \\epsilon$\n"
   ]
  },
  {
   "cell_type": "code",
   "execution_count": null,
   "id": "7c924af0",
   "metadata": {},
   "outputs": [],
   "source": []
  }
 ],
 "metadata": {
  "kernelspec": {
   "display_name": "Python 3",
   "language": "python",
   "name": "python3"
  },
  "language_info": {
   "codemirror_mode": {
    "name": "ipython",
    "version": 3
   },
   "file_extension": ".py",
   "mimetype": "text/x-python",
   "name": "python",
   "nbconvert_exporter": "python",
   "pygments_lexer": "ipython3",
   "version": "3.8.8"
  }
 },
 "nbformat": 4,
 "nbformat_minor": 5
}
